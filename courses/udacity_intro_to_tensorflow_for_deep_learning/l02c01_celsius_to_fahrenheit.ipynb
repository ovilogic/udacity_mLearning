{
  "cells": [
    {
      "cell_type": "markdown",
      "metadata": {
        "id": "view-in-github",
        "colab_type": "text"
      },
      "source": [
        "<a href=\"https://colab.research.google.com/github/ovilogic/udacity_mLearning/blob/main/courses/udacity_intro_to_tensorflow_for_deep_learning/l02c01_celsius_to_fahrenheit.ipynb\" target=\"_parent\"><img src=\"https://colab.research.google.com/assets/colab-badge.svg\" alt=\"Open In Colab\"/></a>"
      ]
    },
    {
      "cell_type": "markdown",
      "metadata": {
        "id": "HnKx50tv5aZD"
      },
      "source": [
        "##### Copyright 2018 The TensorFlow Authors."
      ]
    },
    {
      "cell_type": "code",
      "execution_count": 22,
      "metadata": {
        "id": "IwtS_OXU5cWG"
      },
      "outputs": [],
      "source": [
        "#@title Licensed under the Apache License, Version 2.0 (the \"License\");\n",
        "# you may not use this file except in compliance with the License.\n",
        "# You may obtain a copy of the License at\n",
        "#\n",
        "# https://www.apache.org/licenses/LICENSE-2.0\n",
        "#\n",
        "# Unless required by applicable law or agreed to in writing, software\n",
        "# distributed under the License is distributed on an \"AS IS\" BASIS,\n",
        "# WITHOUT WARRANTIES OR CONDITIONS OF ANY KIND, either express or implied.\n",
        "# See the License for the specific language governing permissions and\n",
        "# limitations under the License."
      ]
    },
    {
      "cell_type": "markdown",
      "metadata": {
        "id": "YHI3vyhv5p85"
      },
      "source": [
        "# The Basics: Training Your First Model"
      ]
    },
    {
      "cell_type": "markdown",
      "metadata": {
        "id": "_wJ2E7jV5tN5"
      },
      "source": [
        "<table class=\"tfo-notebook-buttons\" align=\"left\">\n",
        "  <td>\n",
        "    <a target=\"_blank\" href=\"https://colab.research.google.com/github/tensorflow/examples/blob/master/courses/udacity_intro_to_tensorflow_for_deep_learning/l02c01_celsius_to_fahrenheit.ipynb\"><img src=\"https://www.tensorflow.org/images/colab_logo_32px.png\" />Run in Google Colab</a>\n",
        "  </td>\n",
        "  <td>\n",
        "    <a target=\"_blank\" href=\"https://github.com/tensorflow/examples/blob/master/courses/udacity_intro_to_tensorflow_for_deep_learning/l02c01_celsius_to_fahrenheit.ipynb\"><img src=\"https://www.tensorflow.org/images/GitHub-Mark-32px.png\" />View source on GitHub</a>\n",
        "  </td>\n",
        "</table>"
      ]
    },
    {
      "cell_type": "markdown",
      "metadata": {
        "id": "F8YVA_634OFk"
      },
      "source": [
        "Welcome to this Colab where you will train your first Machine Learning model!\n",
        "\n",
        "We'll try to keep things simple here, and only introduce basic concepts. Later Colabs will cover more advanced problems.\n",
        "\n",
        "The problem we will solve is to convert from Celsius to Fahrenheit, where the approximate formula is:\n",
        "\n",
        "$$ f = c \\times 1.8 + 32 $$\n",
        "\n",
        "\n",
        "Of course, it would be simple enough to create a conventional Python function that directly performs this calculation, but that wouldn't be machine learning.\n",
        "\n",
        "\n",
        "Instead, we will give TensorFlow some sample Celsius values (0, 8, 15, 22, 38) and their corresponding Fahrenheit values (32, 46, 59, 72, 100).\n",
        "Then, we will train a model that figures out the above formula through the training process."
      ]
    },
    {
      "cell_type": "markdown",
      "metadata": {
        "id": "fA93WUy1zzWf"
      },
      "source": [
        "## Import dependencies\n",
        "\n",
        "First, import TensorFlow. Here, we're calling it `tf` for ease of use. We also tell it to only display errors.\n",
        "\n",
        "Next, import [NumPy](http://www.numpy.org/) as `np`. Numpy helps us to represent our data as highly performant lists."
      ]
    },
    {
      "cell_type": "code",
      "execution_count": 23,
      "metadata": {
        "id": "-ZMgCvSRFqxE"
      },
      "outputs": [],
      "source": [
        "import tensorflow as tf"
      ]
    },
    {
      "cell_type": "code",
      "execution_count": 24,
      "metadata": {
        "id": "y_WQEM5MGmg3"
      },
      "outputs": [],
      "source": [
        "import numpy as np\n",
        "import logging\n",
        "logger = tf.get_logger()\n",
        "logger.setLevel(logging.ERROR)"
      ]
    },
    {
      "cell_type": "markdown",
      "metadata": {
        "id": "AC3EQFi20buB"
      },
      "source": [
        "## Set up training data\n",
        "\n",
        "As we saw before, supervised Machine Learning is all about figuring out an algorithm given a set of inputs and outputs. Since the task in this Codelab is to create a model that can give the temperature in Fahrenheit when given the degrees in Celsius, we create two lists `celsius_q` and `fahrenheit_a` that we can use to train our model."
      ]
    },
    {
      "cell_type": "code",
      "execution_count": 25,
      "metadata": {
        "id": "gg4pn6aI1vms",
        "outputId": "cb8601f5-84c8-4ea0-c0bf-b59edac5ce5a",
        "colab": {
          "base_uri": "https://localhost:8080/"
        }
      },
      "outputs": [
        {
          "output_type": "stream",
          "name": "stdout",
          "text": [
            "-40.0 degrees Celsius = -40.0 degrees Fahrenheit\n",
            "-10.0 degrees Celsius = 14.0 degrees Fahrenheit\n",
            "0.0 degrees Celsius = 32.0 degrees Fahrenheit\n",
            "8.0 degrees Celsius = 46.0 degrees Fahrenheit\n",
            "15.0 degrees Celsius = 59.0 degrees Fahrenheit\n",
            "22.0 degrees Celsius = 72.0 degrees Fahrenheit\n",
            "38.0 degrees Celsius = 100.0 degrees Fahrenheit\n"
          ]
        }
      ],
      "source": [
        "celsius_q    = np.array([-40, -10,  0,  8, 15, 22,  38],  dtype=float)\n",
        "fahrenheit_a = np.array([-40,  14, 32, 46, 59, 72, 100],  dtype=float)\n",
        "\n",
        "for i,c in enumerate(celsius_q):\n",
        "  print(\"{} degrees Celsius = {} degrees Fahrenheit\".format(c, fahrenheit_a[i]))"
      ]
    },
    {
      "cell_type": "markdown",
      "metadata": {
        "id": "wwJGmDrQ0EoB"
      },
      "source": [
        "### Some Machine Learning terminology\n",
        "\n",
        " - **Feature** — The input(s) to our model. In this case, a single value — the degrees in Celsius.\n",
        "\n",
        " - **Labels** — The output our model predicts. In this case, a single value — the degrees in Fahrenheit.\n",
        "\n",
        " - **Example** — A pair of inputs/outputs used during training. In our case a pair of values from `celsius_q` and `fahrenheit_a` at a specific index, such as `(22,72)`.\n"
      ]
    },
    {
      "cell_type": "markdown",
      "metadata": {
        "id": "VM7_9Klvq7MO"
      },
      "source": [
        "## Create the model\n",
        "\n",
        "Next, create the model. We will use the simplest possible model we can, a Dense network. Since the problem is straightforward, this network will require only a single layer, with a single neuron.\n",
        "\n",
        "### Build a layer\n",
        "\n",
        "We'll call the layer `l0` and create it by instantiating `tf.keras.layers.Dense` with the following configuration:\n",
        "\n",
        "*   `input_shape=[1]` — This specifies that the input to this layer is a single value. That is, the shape is a one-dimensional array with one member. Since this is the first (and only) layer, that input shape is the input shape of the entire model. The single value is a floating point number, representing degrees Celsius.\n",
        "\n",
        "*   `units=1` — This specifies the number of neurons in the layer. The number of neurons defines how many internal variables the layer has to try to learn how to solve the problem (more later). Since this is the final layer, it is also the size of the model's output — a single float value representing degrees Fahrenheit. (In a multi-layered network, the size and shape of the layer would need to match the `input_shape` of the next layer.)\n"
      ]
    },
    {
      "cell_type": "code",
      "execution_count": 39,
      "metadata": {
        "id": "pRllo2HLfXiu"
      },
      "outputs": [],
      "source": [
        "l0 = tf.keras.layers.Dense(units=1, input_shape=[1])"
      ]
    },
    {
      "cell_type": "markdown",
      "metadata": {
        "id": "_F00_J9duLBD"
      },
      "source": [
        "### Assemble layers into the model\n",
        "\n",
        "Once layers are defined, they need to be assembled into a model. The Sequential model definition takes a list of layers as an argument, specifying the calculation order from the input to the output.\n",
        "\n",
        "This model has just a single layer, l0."
      ]
    },
    {
      "cell_type": "code",
      "execution_count": 40,
      "metadata": {
        "id": "cSp-GpLSuMRq"
      },
      "outputs": [],
      "source": [
        "model = tf.keras.Sequential([l0])"
      ]
    },
    {
      "cell_type": "markdown",
      "metadata": {
        "id": "t7pfHfWxust0"
      },
      "source": [
        "**Note**\n",
        "\n",
        "You will often see the layers defined inside the model definition, rather than beforehand:\n",
        "\n",
        "```python\n",
        "model = tf.keras.Sequential([\n",
        "  tf.keras.layers.Dense(units=1, input_shape=[1])\n",
        "])\n",
        "```"
      ]
    },
    {
      "cell_type": "markdown",
      "metadata": {
        "id": "kiZG7uhm8qCF"
      },
      "source": [
        "## Compile the model, with loss and optimizer functions\n",
        "\n",
        "Before training, the model has to be compiled. When compiled for training, the model is given:\n",
        "\n",
        "- **Loss function** — A way of measuring how far off predictions are from the desired outcome. (The measured difference is called the \"loss\".)\n",
        "\n",
        "- **Optimizer function** — A way of adjusting internal values in order to reduce the loss.\n"
      ]
    },
    {
      "cell_type": "code",
      "execution_count": 44,
      "metadata": {
        "id": "m8YQN1H41L-Y"
      },
      "outputs": [],
      "source": [
        "model.compile(loss='mean_squared_error',\n",
        "              optimizer=tf.keras.optimizers.Adam(0.1))"
      ]
    },
    {
      "cell_type": "markdown",
      "metadata": {
        "id": "17M3Pqv4P52R"
      },
      "source": [
        "These are used during training (`model.fit()`, below) to first calculate the loss at each point, and then improve it. In fact, the act of calculating the current loss of a model and then improving it is precisely what training is.\n",
        "\n",
        "During training, the optimizer function is used to calculate adjustments to the model's internal variables. The goal is to adjust the internal variables until the model (which is really a math function) mirrors the actual equation for converting Celsius to Fahrenheit.\n",
        "\n",
        "TensorFlow uses numerical analysis to perform this tuning, and all this complexity is hidden from you so we will not go into the details here. What is useful to know about these parameters are:\n",
        "\n",
        "The loss function ([mean squared error](https://en.wikipedia.org/wiki/Mean_squared_error)) and the optimizer ([Adam](https://machinelearningmastery.com/adam-optimization-algorithm-for-deep-learning/)) used here are standard for simple models like this one, but many others are available. It is not important to know how these specific functions work at this point.\n",
        "\n",
        "One part of the Optimizer you may need to think about when building your own models is the learning rate (`0.1` in the code above). This is the step size taken when adjusting values in the model. If the value is too small, it will take too many iterations to train the model. Too large, and accuracy goes down. Finding a good value often involves some trial and error, but the range is usually within 0.001 (default), and 0.1"
      ]
    },
    {
      "cell_type": "markdown",
      "metadata": {
        "id": "c-Jk4dG91dvD"
      },
      "source": [
        "## Train the model\n",
        "\n",
        "Train the model by calling the `fit` method.\n",
        "\n",
        "During training, the model takes in Celsius values, performs a calculation using the current internal variables (called \"weights\") and outputs values which are meant to be the Fahrenheit equivalent. Since the weights are initially set randomly, the output will not be close to the correct value. The difference between the actual output and the desired output is calculated using the loss function, and the optimizer function directs how the weights should be adjusted.\n",
        "\n",
        "This cycle of calculate, compare, adjust is controlled by the `fit` method. The first argument is the inputs, the second argument is the desired outputs. The `epochs` argument specifies how many times this cycle should be run, and the `verbose` argument controls how much output the method produces."
      ]
    },
    {
      "cell_type": "code",
      "execution_count": 45,
      "metadata": {
        "id": "lpRrl7WK10Pq",
        "outputId": "3db1ca72-9392-434c-d318-2886abbc3a07",
        "colab": {
          "base_uri": "https://localhost:8080/"
        }
      },
      "outputs": [
        {
          "output_type": "stream",
          "name": "stdout",
          "text": [
            "Finished training the model\n"
          ]
        }
      ],
      "source": [
        "history = model.fit(celsius_q, fahrenheit_a, epochs=500, verbose=False)\n",
        "print(\"Finished training the model\")\n"
      ]
    },
    {
      "cell_type": "markdown",
      "metadata": {
        "id": "GFcIU2-SdCrI"
      },
      "source": [
        "In later videos, we will go into more detail on what actually happens here and how a Dense layer actually works internally."
      ]
    },
    {
      "cell_type": "markdown",
      "metadata": {
        "id": "0-QsNCLD4MJZ"
      },
      "source": [
        "## Display training statistics\n",
        "\n",
        "The `fit` method returns a history object. We can use this object to plot how the loss of our model goes down after each training epoch. A high loss means that the Fahrenheit degrees the model predicts is far from the corresponding value in `fahrenheit_a`.\n",
        "\n",
        "We'll use [Matplotlib](https://matplotlib.org/) to visualize this (you could use another tool). As you can see, our model improves very quickly at first, and then has a steady, slow improvement until it is very near \"perfect\" towards the end.\n"
      ]
    },
    {
      "cell_type": "code",
      "execution_count": 30,
      "metadata": {
        "id": "IeK6BzfbdO6_",
        "outputId": "64020ef0-2767-43ea-9010-2683f165bcda",
        "colab": {
          "base_uri": "https://localhost:8080/",
          "height": 466
        }
      },
      "outputs": [
        {
          "output_type": "execute_result",
          "data": {
            "text/plain": [
              "[<matplotlib.lines.Line2D at 0x7c429dd8b350>]"
            ]
          },
          "metadata": {},
          "execution_count": 30
        },
        {
          "output_type": "display_data",
          "data": {
            "text/plain": [
              "<Figure size 640x480 with 1 Axes>"
            ],
            "image/png": "[encoded data removed]"
          },
          "metadata": {}
        }
      ],
      "source": [
        "import matplotlib.pyplot as plt\n",
        "plt.xlabel('Epoch Number')\n",
        "plt.ylabel(\"Loss Magnitude\")\n",
        "plt.plot(history.history['loss'])"
      ]
    },
    {
      "cell_type": "markdown",
      "metadata": {
        "id": "LtQGDMob5LOD"
      },
      "source": [
        "## Use the model to predict values\n",
        "\n",
        "Now you have a model that has been trained to learn the relationship between `celsius_q` and `fahrenheit_a`. You can use the predict method to have it calculate the Fahrenheit degrees for a previously unknown Celsius degrees.\n",
        "\n",
        "So, for example, if the Celsius value is 100, what do you think the Fahrenheit result will be? Take a guess before you run this code."
      ]
    },
    {
      "cell_type": "code",
      "execution_count": 34,
      "metadata": {
        "id": "oxNzL4lS2Gui",
        "outputId": "835adf33-5925-41ff-a16a-7c1e363633a9",
        "colab": {
          "base_uri": "https://localhost:8080/"
        }
      },
      "outputs": [
        {
          "output_type": "stream",
          "name": "stdout",
          "text": [
            "\u001b[1m1/1\u001b[0m \u001b[32m━━━━━━━━━━━━━━━━━━━━\u001b[0m\u001b[37m\u001b[0m \u001b[1m0s\u001b[0m 71ms/step\n",
            "[[211.32793]]\n"
          ]
        }
      ],
      "source": [
        "print(model.predict(np.array([100.0])))"
      ]
    },
    {
      "cell_type": "markdown",
      "metadata": {
        "id": "jApk6tZ1fBg1"
      },
      "source": [
        "The correct answer is $100 \\times 1.8 + 32 = 212$, so our model is doing really well.\n",
        "\n",
        "### To review\n",
        "\n",
        "\n",
        "*   We created a model with a Dense layer\n",
        "*   We trained it with 3500 examples (7 pairs, over 500 epochs).\n",
        "\n",
        "Our model tuned the variables (weights) in the Dense layer until it was able to return the correct Fahrenheit value for any Celsius value. (Remember, 100 Celsius was not part of our training data.)\n"
      ]
    },
    {
      "cell_type": "markdown",
      "metadata": {
        "id": "zRrOky5gm20Z"
      },
      "source": [
        "## Looking at the layer weights\n",
        "\n",
        "Finally, let's print the internal variables of the Dense layer."
      ]
    },
    {
      "cell_type": "code",
      "execution_count": 46,
      "metadata": {
        "id": "kmIkVdkbnZJI",
        "outputId": "f714718e-7e3f-4df2-8092-58b33f3db4b1",
        "colab": {
          "base_uri": "https://localhost:8080/"
        }
      },
      "outputs": [
        {
          "output_type": "stream",
          "name": "stdout",
          "text": [
            "These are the layer variables: [array([[1.8300042]], dtype=float32), array([28.270018], dtype=float32)]\n"
          ]
        }
      ],
      "source": [
        "print(\"These are the layer variables: {}\".format(l0.get_weights()))"
      ]
    },
    {
      "cell_type": "markdown",
      "metadata": {
        "id": "RSplSnMvnWC-"
      },
      "source": [
        "The first variable is close to ~1.8 and the second to ~32. These values (1.8 and 32) are the actual variables in the real conversion formula.\n",
        "\n",
        "This is really close to the values in the conversion formula. We'll explain this in an upcoming video where we show how a Dense layer works, but for a single neuron with a single input and a single output, the internal math looks the same as [the equation for a line](https://en.wikipedia.org/wiki/Linear_equation#Slope%E2%80%93intercept_form), $y = mx + b$, which has the same form as the conversion equation, $f = 1.8c + 32$.\n",
        "\n",
        "Since the form is the same, the variables should converge on the standard values of 1.8 and 32, which is exactly what happened.\n",
        "\n",
        "With additional neurons, additional inputs, and additional outputs, the formula becomes much more complex, but the idea is the same.\n",
        "\n",
        "### A little experiment\n",
        "\n",
        "Just for fun, what if we created more Dense layers with different units, which therefore also has more variables?"
      ]
    },
    {
      "cell_type": "code",
      "execution_count": 49,
      "metadata": {
        "id": "Y2zTA-rDS5Xk",
        "outputId": "0e3ad85c-851a-4b82-c3ff-690a9096a631",
        "colab": {
          "base_uri": "https://localhost:8080/"
        }
      },
      "outputs": [
        {
          "output_type": "stream",
          "name": "stderr",
          "text": [
            "/usr/local/lib/python3.11/dist-packages/keras/src/layers/core/dense.py:87: UserWarning: Do not pass an `input_shape`/`input_dim` argument to a layer. When using Sequential models, prefer using an `Input(shape)` object as the first layer in the model instead.\n",
            "  super().__init__(activity_regularizer=activity_regularizer, **kwargs)\n"
          ]
        },
        {
          "output_type": "stream",
          "name": "stdout",
          "text": [
            "Finished training the model\n",
            "\u001b[1m1/1\u001b[0m \u001b[32m━━━━━━━━━━━━━━━━━━━━\u001b[0m\u001b[37m\u001b[0m \u001b[1m0s\u001b[0m 76ms/step\n",
            "[[211.74745]]\n",
            "\u001b[1m1/1\u001b[0m \u001b[32m━━━━━━━━━━━━━━━━━━━━\u001b[0m\u001b[37m\u001b[0m \u001b[1m0s\u001b[0m 37ms/step\n",
            "Model predicts that 100 degrees Celsius is: [[211.74745]] degrees Fahrenheit\n",
            "These are the l0 variables: [array([[-0.702639  ,  0.09432185,  0.12246398,  0.23550656]],\n",
            "      dtype=float32), array([-3.3359776 ,  2.3135297 , -2.3775933 , -0.87647766], dtype=float32)]\n",
            "These are the l1 variables: [array([[ 1.4308594 , -0.50700295,  0.3877425 ,  1.3497913 ],\n",
            "       [-1.7534618 ,  0.38171488, -0.81906396, -0.22132033],\n",
            "       [ 0.6616648 , -0.433902  ,  1.2076176 ,  0.23811921],\n",
            "       [-0.05018032, -0.12766111,  0.33557194, -0.14138998]],\n",
            "      dtype=float32), array([-3.4335074 ,  0.20493917, -3.166014  , -2.0990856 ], dtype=float32)]\n",
            "These are the l2 variables: [array([[-1.4083793 ],\n",
            "       [-0.24750699],\n",
            "       [-0.93443   ],\n",
            "       [-0.21398875]], dtype=float32), array([2.9856095], dtype=float32)]\n"
          ]
        }
      ],
      "source": [
        "l0 = tf.keras.layers.Dense(units=4, input_shape=[1])\n",
        "l1 = tf.keras.layers.Dense(units=4)\n",
        "l2 = tf.keras.layers.Dense(units=1)\n",
        "model = tf.keras.Sequential([l0, l1, l2])\n",
        "model.compile(loss='mean_squared_error', optimizer=tf.keras.optimizers.Adam(0.1))\n",
        "model.fit(celsius_q, fahrenheit_a, epochs=500, verbose=False)\n",
        "print(\"Finished training the model\")\n",
        "print(model.predict(np.array([100.0])))\n",
        "print(\"Model predicts that 100 degrees Celsius is: {} degrees Fahrenheit\".format(model.predict(np.array([100.0]))))\n",
        "print(\"These are the l0 variables: {}\".format(l0.get_weights()))\n",
        "print(\"These are the l1 variables: {}\".format(l1.get_weights()))\n",
        "print(\"These are the l2 variables: {}\".format(l2.get_weights()))"
      ]
    },
    {
      "cell_type": "markdown",
      "metadata": {
        "id": "xrpFFlgYhCty"
      },
      "source": [
        "As you can see, this model is also able to predict the corresponding Fahrenheit value really well. But when you look at the variables (weights) in the `l0` and `l1` layers, they are nothing even close to ~1.8 and ~32. The added complexity hides the \"simple\" form of the conversion equation.\n",
        "\n",
        "Stay tuned for the upcoming video on how Dense layers work for the explanation."
      ]
    }
  ],
  "metadata": {
    "colab": {
      "name": "l02c01_celsius_to_fahrenheit.ipynb",
      "toc_visible": true,
      "provenance": [],
      "include_colab_link": true
    },
    "kernelspec": {
      "display_name": "Python 3",
      "name": "python3"
    }
  },
  "nbformat": 4,
  "nbformat_minor": 0
}